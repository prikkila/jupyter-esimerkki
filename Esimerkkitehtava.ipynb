{
 "cells": [
  {
   "cell_type": "markdown",
   "metadata": {},
   "source": [
    "## Esimerkkitehtäviä Jupyter Notebookilla"
   ]
  },
  {
   "cell_type": "markdown",
   "metadata": {},
   "source": [
    "Tässä notebookissa esitellään kaksi esimerkkitehtävää, joka hyödyntävät Jupyter Notebookin ominaisuuksia. Ensimmäisen, esimerkiksi ohjelmoinnin perusteiden opettelussa hyödynnettävän tehtävän ohjeistus on seuraava:\n",
    "<br>\n",
    "<br>\n",
    "<br>\n",
    "__Tehtävä 1__\n",
    "\n",
    "_Kokeile ajaa alla olevaa koodia näppäinyhdistelmällä Ctrl + Enter, tai klikkaamalla koodin sisältävää solua (cell) ja valitsemalla työkalupalkista \"Cell -> Run Cells\". Mitä tapahtuu?_<br \\r>\n",
    "_Tämän jälkeen muokkaa koodia siten, että ajettaessa kone tulostaa ruudulle oman nimesi._"
   ]
  },
  {
   "cell_type": "code",
   "execution_count": null,
   "metadata": {
    "collapsed": false
   },
   "outputs": [],
   "source": [
    "# Nämä ovat kommenttirivejä, jotka eivät vaikuta koodin toimintaan. Kokeile ajaa koodia, jonka jälkeen muokkaa\n",
    "# sitä tehtävänannon mukaisesti.\n",
    "\n",
    "print(\"Hello world!\")"
   ]
  },
  {
   "cell_type": "markdown",
   "metadata": {},
   "source": [
    "<br>\n",
    "<br>\n",
    "Tässä interaktiivisessa esimerkissä oppilas voi siis lukea muotoiltua tehtävänantoa, tutustua koodin sisältöön, muokata koodin sisältöä ja havainnoida, miten muokattu koodi toimii. Jupyterin avulla kaikki tämä tapahtuu samassa sovelluksessa, ilman erillisiä ohjelmia."
   ]
  },
  {
   "cell_type": "markdown",
   "metadata": {},
   "source": [
    "Otetaan vielä hieman haastavampi esimerkkitehtävä, joka edellyttää oppilaalta jo hieman Python-ohjelmointikielen tuntemista. Tehtävää voitaisiin hyödyntää esimerkiksi matematiikan numeeristen menetelmien opetuksessa. Tehtävänanto on seuraava:\n",
    "<br>\n",
    "<br>\n",
    "<br>\n",
    "__Tehtävä 2__\n",
    "\n",
    "_Alla oleva koodi piirtää funktion $y = \\sin(x)$ kuvaajan. Kokeile ajaa koodia näppäinyhdistelmällä Ctrl + Enter, tai valitsemalla työkalupalkista \"Cell -> Run Cells\". Mitä tapahtuu?_<br \\r>\n",
    "_Tutustu koodin seassa oleviin kommentteihin ja selvitä, miten saat piirrettyä tarkemman kuvaajan. Kokeile tekemiäsi muutoksia ajamalla koodia._<br \\r>\n",
    "_Kun olet saanut luotua tarkemman kuvaajan, poista kuvaajan otsikosta osa_ \"mutta ei kovin tarkka...\"_, ja korvaa se sanoilla_ \"ja aika tarkka sellainen!\"."
   ]
  },
  {
   "cell_type": "code",
   "execution_count": null,
   "metadata": {
    "collapsed": false
   },
   "outputs": [],
   "source": [
    "# Haetaan tieteellisen laskennan paketti nimeltään \"numpy\".\n",
    "import numpy as np\n",
    "# Haetaan kirjasto \"matplotlib\", jonka avulla voidaan plotata kuvaajia.\n",
    "import matplotlib.pyplot as plt\n",
    "# Haetaan kaksi muuta tarvittavaa pakettia.\n",
    "from scipy.stats import norm\n",
    "import matplotlib.mlab as mlab\n",
    "\n",
    "\n",
    "# Aloitetaan funktion y = sin(x) määrittäminen.\n",
    "\n",
    "# Tämä komento luo taulukon, johon tallennetaan tasavälisesti lukuja valitun välin yli. Komennon ensimmäinen ja toinen\n",
    "# argumentti määrittävät välin alku- ja loppupisteet, ja kolmas argumentti välille luotavien lukujen määrän.\n",
    "x = np.linspace(0,20,15)\n",
    "\n",
    "# Tämä komento luo taulukon, johon tallentuu jokaista edellä luotua x:n arvoa vastaava sin(x):n arvo.\n",
    "y = np.sin(x) \n",
    "\n",
    "\n",
    "# Jupyter Notebookissa on valmiiksi määritettyjä \"magic function\" -komentoja. Tämän avulla kuvaaja saadaan näkymään\n",
    "# suoraan notebookissa.\n",
    "%matplotlib inline\n",
    "\n",
    "# Kuvaajan tiedot ja itse komento piirtää kuvaaja.\n",
    "plt.title(\"Esimerkkikuvaaja, mutta ei kovin tarkka...\")\n",
    "plt.xlabel(\"x-akseli\")\n",
    "plt.ylabel(\"y-akseli\")\n",
    "plt.plot(x,y)"
   ]
  },
  {
   "cell_type": "markdown",
   "metadata": {},
   "source": [
    "<br>\n",
    "<br>\n",
    "Tässä tarkoituksena on siis vaihtaa komennosta _x = np.linspace(0,20,15)_ kolmas argumentti suuremmaksi luvuksi: esimerkiksi luku 200 toimii hyvin. Tällöin kuvaajan piirtämisessä käytetään useampia pisteitä ja kuvaajasta tulee tarkempi."
   ]
  },
  {
   "cell_type": "markdown",
   "metadata": {},
   "source": [
    "## Lisäesimerkkejä"
   ]
  },
  {
   "cell_type": "markdown",
   "metadata": {},
   "source": [
    "Lisää esimerkkejä erilaisista notebookeista löytyy vaikkapa [täältä](https://github.com/ipython/ipython/wiki/A-gallery-of-interesting-IPython-Notebooks). (A gallery of interesting IPython Notebooks)"
   ]
  }
 ],
 "metadata": {
  "kernelspec": {
   "display_name": "Python 3",
   "language": "python",
   "name": "python3"
  },
  "language_info": {
   "codemirror_mode": {
    "name": "ipython",
    "version": 3
   },
   "file_extension": ".py",
   "mimetype": "text/x-python",
   "name": "python",
   "nbconvert_exporter": "python",
   "pygments_lexer": "ipython3",
   "version": "3.5.1"
  }
 },
 "nbformat": 4,
 "nbformat_minor": 0
}
